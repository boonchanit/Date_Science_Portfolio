{
 "cells": [
  {
   "cell_type": "markdown",
   "metadata": {},
   "source": [
    "# Linear Regression-House price prediction \n",
    "#### The objective is to create a  model that uses linear regression model to predict price of a given dataset(House Sales in King County, USA) from Kaggle.\n",
    "##### Data  https://www.kaggle.com/datasets/shivachandel/kc-house-data"
   ]
  },
  {
   "cell_type": "markdown",
   "metadata": {},
   "source": [
    "## Data Description\n",
    "This dataset contains house sale prices for King County, which includes Seattle. It includes homes sold between May 2014 and May 2015.\n",
    "\n",
    "The dataset contain 21 columns and 21613 rows.\n",
    "\n",
    "Column defintions 21 features is below:\n",
    "\n",
    "1.id - Unique ID for each home sold.\n",
    "\n",
    "2.date - Date of the home sale.\n",
    "\n",
    "3.price - Price of each home sold.\n",
    "\n",
    "4.bedrooms - Number of bedrooms.\n",
    "\n",
    "5.bathrooms - Number of bathrooms, where .5 accounts for a room with a toilet but no shower.\n",
    "\n",
    "6.sqft_living - Square footage of the apartments interior living.\n",
    "\n",
    "7.sqft_lot - Square footage of the land space.\n",
    "\n",
    "8.floors - Number of floors.\n",
    "\n",
    "9.waterfront - A dummy variable for whether the apartment was overlooking the waterfront or not.\n",
    "\n",
    "10.view - An index from 0 to 4 of how good the view of the property was.\n",
    "\n",
    "11.condition - An index from 1 to 5 on the condition of the apartment.\n",
    "\n",
    "12.grade - An index from 1 to 13, where 1-3 falls short of building construction and design, 7 has an average level of construction and design, and 11-13 have a high quality level of construction and design.\n",
    "\n",
    "13.sqft_above - The square footage of the interior housing space that is above ground level.\n",
    "\n",
    "14.sqft_basement - The square footage of the interior housing space that is below ground level.\n",
    "\n",
    "15.yr_built - The year the house was initially built.\n",
    "\n",
    "16.yr_renovated - The year of the house’s last renovation.\n",
    "\n",
    "17.zipcode - What zipcode area the house is in.\n",
    "\n",
    "18.lat - Lattitude.\n",
    "\n",
    "19.long - Longitude.\n",
    "\n",
    "20.sqft_living15 - The square footage of interior housing living space for the nearest 15 neighbors.\n",
    "\n",
    "21.sqft_lot15 - The square footage of the land lots of the nearest 15 neighbors.\n"
   ]
  },
  {
   "cell_type": "code",
   "execution_count": 1,
   "metadata": {},
   "outputs": [],
   "source": [
    "#import necessary libraries\n",
    "import pandas as pd\n",
    "import numpy as np\n",
    "import matplotlib.pyplot as plt\n",
    "import seaborn as sns\n",
    "import math\n",
    "pd.options.display.max_columns = 30"
   ]
  },
  {
   "cell_type": "code",
   "execution_count": 2,
   "metadata": {},
   "outputs": [
    {
     "data": {
      "text/html": [
       "<div>\n",
       "<style scoped>\n",
       "    .dataframe tbody tr th:only-of-type {\n",
       "        vertical-align: middle;\n",
       "    }\n",
       "\n",
       "    .dataframe tbody tr th {\n",
       "        vertical-align: top;\n",
       "    }\n",
       "\n",
       "    .dataframe thead th {\n",
       "        text-align: right;\n",
       "    }\n",
       "</style>\n",
       "<table border=\"1\" class=\"dataframe\">\n",
       "  <thead>\n",
       "    <tr style=\"text-align: right;\">\n",
       "      <th></th>\n",
       "      <th>id</th>\n",
       "      <th>date</th>\n",
       "      <th>price</th>\n",
       "      <th>bedrooms</th>\n",
       "      <th>bathrooms</th>\n",
       "      <th>sqft_living</th>\n",
       "      <th>sqft_lot</th>\n",
       "      <th>floors</th>\n",
       "      <th>waterfront</th>\n",
       "      <th>view</th>\n",
       "      <th>condition</th>\n",
       "      <th>grade</th>\n",
       "      <th>sqft_above</th>\n",
       "      <th>sqft_basement</th>\n",
       "      <th>yr_built</th>\n",
       "      <th>yr_renovated</th>\n",
       "      <th>zipcode</th>\n",
       "      <th>lat</th>\n",
       "      <th>long</th>\n",
       "      <th>sqft_living15</th>\n",
       "      <th>sqft_lot15</th>\n",
       "    </tr>\n",
       "  </thead>\n",
       "  <tbody>\n",
       "    <tr>\n",
       "      <th>0</th>\n",
       "      <td>7129300520</td>\n",
       "      <td>20141013T000000</td>\n",
       "      <td>221900.0</td>\n",
       "      <td>3</td>\n",
       "      <td>1.00</td>\n",
       "      <td>1180</td>\n",
       "      <td>5650</td>\n",
       "      <td>1.0</td>\n",
       "      <td>0</td>\n",
       "      <td>0</td>\n",
       "      <td>3</td>\n",
       "      <td>7</td>\n",
       "      <td>1180.0</td>\n",
       "      <td>0</td>\n",
       "      <td>1955</td>\n",
       "      <td>0</td>\n",
       "      <td>98178</td>\n",
       "      <td>47.5112</td>\n",
       "      <td>-122.257</td>\n",
       "      <td>1340</td>\n",
       "      <td>5650</td>\n",
       "    </tr>\n",
       "    <tr>\n",
       "      <th>1</th>\n",
       "      <td>6414100192</td>\n",
       "      <td>20141209T000000</td>\n",
       "      <td>538000.0</td>\n",
       "      <td>3</td>\n",
       "      <td>2.25</td>\n",
       "      <td>2570</td>\n",
       "      <td>7242</td>\n",
       "      <td>2.0</td>\n",
       "      <td>0</td>\n",
       "      <td>0</td>\n",
       "      <td>3</td>\n",
       "      <td>7</td>\n",
       "      <td>2170.0</td>\n",
       "      <td>400</td>\n",
       "      <td>1951</td>\n",
       "      <td>1991</td>\n",
       "      <td>98125</td>\n",
       "      <td>47.7210</td>\n",
       "      <td>-122.319</td>\n",
       "      <td>1690</td>\n",
       "      <td>7639</td>\n",
       "    </tr>\n",
       "    <tr>\n",
       "      <th>2</th>\n",
       "      <td>5631500400</td>\n",
       "      <td>20150225T000000</td>\n",
       "      <td>180000.0</td>\n",
       "      <td>2</td>\n",
       "      <td>1.00</td>\n",
       "      <td>770</td>\n",
       "      <td>10000</td>\n",
       "      <td>1.0</td>\n",
       "      <td>0</td>\n",
       "      <td>0</td>\n",
       "      <td>3</td>\n",
       "      <td>6</td>\n",
       "      <td>770.0</td>\n",
       "      <td>0</td>\n",
       "      <td>1933</td>\n",
       "      <td>0</td>\n",
       "      <td>98028</td>\n",
       "      <td>47.7379</td>\n",
       "      <td>-122.233</td>\n",
       "      <td>2720</td>\n",
       "      <td>8062</td>\n",
       "    </tr>\n",
       "    <tr>\n",
       "      <th>3</th>\n",
       "      <td>2487200875</td>\n",
       "      <td>20141209T000000</td>\n",
       "      <td>604000.0</td>\n",
       "      <td>4</td>\n",
       "      <td>3.00</td>\n",
       "      <td>1960</td>\n",
       "      <td>5000</td>\n",
       "      <td>1.0</td>\n",
       "      <td>0</td>\n",
       "      <td>0</td>\n",
       "      <td>5</td>\n",
       "      <td>7</td>\n",
       "      <td>1050.0</td>\n",
       "      <td>910</td>\n",
       "      <td>1965</td>\n",
       "      <td>0</td>\n",
       "      <td>98136</td>\n",
       "      <td>47.5208</td>\n",
       "      <td>-122.393</td>\n",
       "      <td>1360</td>\n",
       "      <td>5000</td>\n",
       "    </tr>\n",
       "    <tr>\n",
       "      <th>4</th>\n",
       "      <td>1954400510</td>\n",
       "      <td>20150218T000000</td>\n",
       "      <td>510000.0</td>\n",
       "      <td>3</td>\n",
       "      <td>2.00</td>\n",
       "      <td>1680</td>\n",
       "      <td>8080</td>\n",
       "      <td>1.0</td>\n",
       "      <td>0</td>\n",
       "      <td>0</td>\n",
       "      <td>3</td>\n",
       "      <td>8</td>\n",
       "      <td>1680.0</td>\n",
       "      <td>0</td>\n",
       "      <td>1987</td>\n",
       "      <td>0</td>\n",
       "      <td>98074</td>\n",
       "      <td>47.6168</td>\n",
       "      <td>-122.045</td>\n",
       "      <td>1800</td>\n",
       "      <td>7503</td>\n",
       "    </tr>\n",
       "  </tbody>\n",
       "</table>\n",
       "</div>"
      ],
      "text/plain": [
       "           id             date     price  bedrooms  bathrooms  sqft_living  \\\n",
       "0  7129300520  20141013T000000  221900.0         3       1.00         1180   \n",
       "1  6414100192  20141209T000000  538000.0         3       2.25         2570   \n",
       "2  5631500400  20150225T000000  180000.0         2       1.00          770   \n",
       "3  2487200875  20141209T000000  604000.0         4       3.00         1960   \n",
       "4  1954400510  20150218T000000  510000.0         3       2.00         1680   \n",
       "\n",
       "   sqft_lot  floors  waterfront  view  condition  grade  sqft_above  \\\n",
       "0      5650     1.0           0     0          3      7      1180.0   \n",
       "1      7242     2.0           0     0          3      7      2170.0   \n",
       "2     10000     1.0           0     0          3      6       770.0   \n",
       "3      5000     1.0           0     0          5      7      1050.0   \n",
       "4      8080     1.0           0     0          3      8      1680.0   \n",
       "\n",
       "   sqft_basement  yr_built  yr_renovated  zipcode      lat     long  \\\n",
       "0              0      1955             0    98178  47.5112 -122.257   \n",
       "1            400      1951          1991    98125  47.7210 -122.319   \n",
       "2              0      1933             0    98028  47.7379 -122.233   \n",
       "3            910      1965             0    98136  47.5208 -122.393   \n",
       "4              0      1987             0    98074  47.6168 -122.045   \n",
       "\n",
       "   sqft_living15  sqft_lot15  \n",
       "0           1340        5650  \n",
       "1           1690        7639  \n",
       "2           2720        8062  \n",
       "3           1360        5000  \n",
       "4           1800        7503  "
      ]
     },
     "execution_count": 2,
     "metadata": {},
     "output_type": "execute_result"
    }
   ],
   "source": [
    "#read data from csv. file\n",
    "df = pd.read_csv('kc_house_data.csv')\n",
    "df.head()"
   ]
  },
  {
   "cell_type": "markdown",
   "metadata": {},
   "source": [
    "# Preprocessing of Data"
   ]
  },
  {
   "cell_type": "code",
   "execution_count": 3,
   "metadata": {},
   "outputs": [
    {
     "name": "stdout",
     "output_type": "stream",
     "text": [
      "<class 'pandas.core.frame.DataFrame'>\n",
      "RangeIndex: 21613 entries, 0 to 21612\n",
      "Data columns (total 21 columns):\n",
      " #   Column         Non-Null Count  Dtype  \n",
      "---  ------         --------------  -----  \n",
      " 0   id             21613 non-null  int64  \n",
      " 1   date           21613 non-null  object \n",
      " 2   price          21613 non-null  float64\n",
      " 3   bedrooms       21613 non-null  int64  \n",
      " 4   bathrooms      21613 non-null  float64\n",
      " 5   sqft_living    21613 non-null  int64  \n",
      " 6   sqft_lot       21613 non-null  int64  \n",
      " 7   floors         21613 non-null  float64\n",
      " 8   waterfront     21613 non-null  int64  \n",
      " 9   view           21613 non-null  int64  \n",
      " 10  condition      21613 non-null  int64  \n",
      " 11  grade          21613 non-null  int64  \n",
      " 12  sqft_above     21611 non-null  float64\n",
      " 13  sqft_basement  21613 non-null  int64  \n",
      " 14  yr_built       21613 non-null  int64  \n",
      " 15  yr_renovated   21613 non-null  int64  \n",
      " 16  zipcode        21613 non-null  int64  \n",
      " 17  lat            21613 non-null  float64\n",
      " 18  long           21613 non-null  float64\n",
      " 19  sqft_living15  21613 non-null  int64  \n",
      " 20  sqft_lot15     21613 non-null  int64  \n",
      "dtypes: float64(6), int64(14), object(1)\n",
      "memory usage: 3.5+ MB\n"
     ]
    }
   ],
   "source": [
    "df.info()"
   ]
  },
  {
   "cell_type": "code",
   "execution_count": 7,
   "metadata": {},
   "outputs": [],
   "source": [
    "df['date'] = pd.to_datetime(df['date'])"
   ]
  },
  {
   "cell_type": "code",
   "execution_count": 5,
   "metadata": {},
   "outputs": [
    {
     "data": {
      "text/plain": [
       "(21613, 21)"
      ]
     },
     "execution_count": 5,
     "metadata": {},
     "output_type": "execute_result"
    }
   ],
   "source": [
    "df.shape"
   ]
  },
  {
   "cell_type": "code",
   "execution_count": 11,
   "metadata": {
    "scrolled": false
   },
   "outputs": [
    {
     "data": {
      "text/html": [
       "<div>\n",
       "<style scoped>\n",
       "    .dataframe tbody tr th:only-of-type {\n",
       "        vertical-align: middle;\n",
       "    }\n",
       "\n",
       "    .dataframe tbody tr th {\n",
       "        vertical-align: top;\n",
       "    }\n",
       "\n",
       "    .dataframe thead th {\n",
       "        text-align: right;\n",
       "    }\n",
       "</style>\n",
       "<table border=\"1\" class=\"dataframe\">\n",
       "  <thead>\n",
       "    <tr style=\"text-align: right;\">\n",
       "      <th></th>\n",
       "      <th>id</th>\n",
       "      <th>price</th>\n",
       "      <th>bedrooms</th>\n",
       "      <th>bathrooms</th>\n",
       "      <th>sqft_living</th>\n",
       "      <th>sqft_lot</th>\n",
       "      <th>floors</th>\n",
       "      <th>waterfront</th>\n",
       "      <th>view</th>\n",
       "      <th>condition</th>\n",
       "      <th>grade</th>\n",
       "      <th>sqft_above</th>\n",
       "      <th>sqft_basement</th>\n",
       "      <th>yr_built</th>\n",
       "      <th>yr_renovated</th>\n",
       "      <th>zipcode</th>\n",
       "      <th>lat</th>\n",
       "      <th>long</th>\n",
       "      <th>sqft_living15</th>\n",
       "      <th>sqft_lot15</th>\n",
       "    </tr>\n",
       "  </thead>\n",
       "  <tbody>\n",
       "    <tr>\n",
       "      <th>count</th>\n",
       "      <td>2.161300e+04</td>\n",
       "      <td>2.161300e+04</td>\n",
       "      <td>21613.000000</td>\n",
       "      <td>21613.000000</td>\n",
       "      <td>21613.000000</td>\n",
       "      <td>2.161300e+04</td>\n",
       "      <td>21613.000000</td>\n",
       "      <td>21613.000000</td>\n",
       "      <td>21613.000000</td>\n",
       "      <td>21613.000000</td>\n",
       "      <td>21613.000000</td>\n",
       "      <td>21613.000000</td>\n",
       "      <td>21613.000000</td>\n",
       "      <td>21613.000000</td>\n",
       "      <td>21613.000000</td>\n",
       "      <td>21613.000000</td>\n",
       "      <td>21613.000000</td>\n",
       "      <td>21613.000000</td>\n",
       "      <td>21613.000000</td>\n",
       "      <td>21613.000000</td>\n",
       "    </tr>\n",
       "    <tr>\n",
       "      <th>mean</th>\n",
       "      <td>4.580302e+09</td>\n",
       "      <td>5.400881e+05</td>\n",
       "      <td>3.370842</td>\n",
       "      <td>2.114757</td>\n",
       "      <td>2079.899736</td>\n",
       "      <td>1.510697e+04</td>\n",
       "      <td>1.494309</td>\n",
       "      <td>0.007542</td>\n",
       "      <td>0.234303</td>\n",
       "      <td>3.409430</td>\n",
       "      <td>7.656873</td>\n",
       "      <td>1788.396095</td>\n",
       "      <td>291.509045</td>\n",
       "      <td>1971.005136</td>\n",
       "      <td>84.402258</td>\n",
       "      <td>98077.939805</td>\n",
       "      <td>47.560053</td>\n",
       "      <td>-122.213896</td>\n",
       "      <td>1986.552492</td>\n",
       "      <td>12768.455652</td>\n",
       "    </tr>\n",
       "    <tr>\n",
       "      <th>std</th>\n",
       "      <td>2.876566e+09</td>\n",
       "      <td>3.671272e+05</td>\n",
       "      <td>0.930062</td>\n",
       "      <td>0.770163</td>\n",
       "      <td>918.440897</td>\n",
       "      <td>4.142051e+04</td>\n",
       "      <td>0.539989</td>\n",
       "      <td>0.086517</td>\n",
       "      <td>0.766318</td>\n",
       "      <td>0.650743</td>\n",
       "      <td>1.175459</td>\n",
       "      <td>828.089843</td>\n",
       "      <td>442.575043</td>\n",
       "      <td>29.373411</td>\n",
       "      <td>401.679240</td>\n",
       "      <td>53.505026</td>\n",
       "      <td>0.138564</td>\n",
       "      <td>0.140828</td>\n",
       "      <td>685.391304</td>\n",
       "      <td>27304.179631</td>\n",
       "    </tr>\n",
       "    <tr>\n",
       "      <th>min</th>\n",
       "      <td>1.000102e+06</td>\n",
       "      <td>7.500000e+04</td>\n",
       "      <td>0.000000</td>\n",
       "      <td>0.000000</td>\n",
       "      <td>290.000000</td>\n",
       "      <td>5.200000e+02</td>\n",
       "      <td>1.000000</td>\n",
       "      <td>0.000000</td>\n",
       "      <td>0.000000</td>\n",
       "      <td>1.000000</td>\n",
       "      <td>1.000000</td>\n",
       "      <td>290.000000</td>\n",
       "      <td>0.000000</td>\n",
       "      <td>1900.000000</td>\n",
       "      <td>0.000000</td>\n",
       "      <td>98001.000000</td>\n",
       "      <td>47.155900</td>\n",
       "      <td>-122.519000</td>\n",
       "      <td>399.000000</td>\n",
       "      <td>651.000000</td>\n",
       "    </tr>\n",
       "    <tr>\n",
       "      <th>25%</th>\n",
       "      <td>2.123049e+09</td>\n",
       "      <td>3.219500e+05</td>\n",
       "      <td>3.000000</td>\n",
       "      <td>1.750000</td>\n",
       "      <td>1427.000000</td>\n",
       "      <td>5.040000e+03</td>\n",
       "      <td>1.000000</td>\n",
       "      <td>0.000000</td>\n",
       "      <td>0.000000</td>\n",
       "      <td>3.000000</td>\n",
       "      <td>7.000000</td>\n",
       "      <td>1190.000000</td>\n",
       "      <td>0.000000</td>\n",
       "      <td>1951.000000</td>\n",
       "      <td>0.000000</td>\n",
       "      <td>98033.000000</td>\n",
       "      <td>47.471000</td>\n",
       "      <td>-122.328000</td>\n",
       "      <td>1490.000000</td>\n",
       "      <td>5100.000000</td>\n",
       "    </tr>\n",
       "    <tr>\n",
       "      <th>50%</th>\n",
       "      <td>3.904930e+09</td>\n",
       "      <td>4.500000e+05</td>\n",
       "      <td>3.000000</td>\n",
       "      <td>2.250000</td>\n",
       "      <td>1910.000000</td>\n",
       "      <td>7.618000e+03</td>\n",
       "      <td>1.500000</td>\n",
       "      <td>0.000000</td>\n",
       "      <td>0.000000</td>\n",
       "      <td>3.000000</td>\n",
       "      <td>7.000000</td>\n",
       "      <td>1560.000000</td>\n",
       "      <td>0.000000</td>\n",
       "      <td>1975.000000</td>\n",
       "      <td>0.000000</td>\n",
       "      <td>98065.000000</td>\n",
       "      <td>47.571800</td>\n",
       "      <td>-122.230000</td>\n",
       "      <td>1840.000000</td>\n",
       "      <td>7620.000000</td>\n",
       "    </tr>\n",
       "    <tr>\n",
       "      <th>75%</th>\n",
       "      <td>7.308900e+09</td>\n",
       "      <td>6.450000e+05</td>\n",
       "      <td>4.000000</td>\n",
       "      <td>2.500000</td>\n",
       "      <td>2550.000000</td>\n",
       "      <td>1.068800e+04</td>\n",
       "      <td>2.000000</td>\n",
       "      <td>0.000000</td>\n",
       "      <td>0.000000</td>\n",
       "      <td>4.000000</td>\n",
       "      <td>8.000000</td>\n",
       "      <td>2210.000000</td>\n",
       "      <td>560.000000</td>\n",
       "      <td>1997.000000</td>\n",
       "      <td>0.000000</td>\n",
       "      <td>98118.000000</td>\n",
       "      <td>47.678000</td>\n",
       "      <td>-122.125000</td>\n",
       "      <td>2360.000000</td>\n",
       "      <td>10083.000000</td>\n",
       "    </tr>\n",
       "    <tr>\n",
       "      <th>max</th>\n",
       "      <td>9.900000e+09</td>\n",
       "      <td>7.700000e+06</td>\n",
       "      <td>33.000000</td>\n",
       "      <td>8.000000</td>\n",
       "      <td>13540.000000</td>\n",
       "      <td>1.651359e+06</td>\n",
       "      <td>3.500000</td>\n",
       "      <td>1.000000</td>\n",
       "      <td>4.000000</td>\n",
       "      <td>5.000000</td>\n",
       "      <td>13.000000</td>\n",
       "      <td>9410.000000</td>\n",
       "      <td>4820.000000</td>\n",
       "      <td>2015.000000</td>\n",
       "      <td>2015.000000</td>\n",
       "      <td>98199.000000</td>\n",
       "      <td>47.777600</td>\n",
       "      <td>-121.315000</td>\n",
       "      <td>6210.000000</td>\n",
       "      <td>871200.000000</td>\n",
       "    </tr>\n",
       "  </tbody>\n",
       "</table>\n",
       "</div>"
      ],
      "text/plain": [
       "                 id         price      bedrooms     bathrooms   sqft_living  \\\n",
       "count  2.161300e+04  2.161300e+04  21613.000000  21613.000000  21613.000000   \n",
       "mean   4.580302e+09  5.400881e+05      3.370842      2.114757   2079.899736   \n",
       "std    2.876566e+09  3.671272e+05      0.930062      0.770163    918.440897   \n",
       "min    1.000102e+06  7.500000e+04      0.000000      0.000000    290.000000   \n",
       "25%    2.123049e+09  3.219500e+05      3.000000      1.750000   1427.000000   \n",
       "50%    3.904930e+09  4.500000e+05      3.000000      2.250000   1910.000000   \n",
       "75%    7.308900e+09  6.450000e+05      4.000000      2.500000   2550.000000   \n",
       "max    9.900000e+09  7.700000e+06     33.000000      8.000000  13540.000000   \n",
       "\n",
       "           sqft_lot        floors    waterfront          view     condition  \\\n",
       "count  2.161300e+04  21613.000000  21613.000000  21613.000000  21613.000000   \n",
       "mean   1.510697e+04      1.494309      0.007542      0.234303      3.409430   \n",
       "std    4.142051e+04      0.539989      0.086517      0.766318      0.650743   \n",
       "min    5.200000e+02      1.000000      0.000000      0.000000      1.000000   \n",
       "25%    5.040000e+03      1.000000      0.000000      0.000000      3.000000   \n",
       "50%    7.618000e+03      1.500000      0.000000      0.000000      3.000000   \n",
       "75%    1.068800e+04      2.000000      0.000000      0.000000      4.000000   \n",
       "max    1.651359e+06      3.500000      1.000000      4.000000      5.000000   \n",
       "\n",
       "              grade    sqft_above  sqft_basement      yr_built  yr_renovated  \\\n",
       "count  21613.000000  21613.000000   21613.000000  21613.000000  21613.000000   \n",
       "mean       7.656873   1788.396095     291.509045   1971.005136     84.402258   \n",
       "std        1.175459    828.089843     442.575043     29.373411    401.679240   \n",
       "min        1.000000    290.000000       0.000000   1900.000000      0.000000   \n",
       "25%        7.000000   1190.000000       0.000000   1951.000000      0.000000   \n",
       "50%        7.000000   1560.000000       0.000000   1975.000000      0.000000   \n",
       "75%        8.000000   2210.000000     560.000000   1997.000000      0.000000   \n",
       "max       13.000000   9410.000000    4820.000000   2015.000000   2015.000000   \n",
       "\n",
       "            zipcode           lat          long  sqft_living15     sqft_lot15  \n",
       "count  21613.000000  21613.000000  21613.000000   21613.000000   21613.000000  \n",
       "mean   98077.939805     47.560053   -122.213896    1986.552492   12768.455652  \n",
       "std       53.505026      0.138564      0.140828     685.391304   27304.179631  \n",
       "min    98001.000000     47.155900   -122.519000     399.000000     651.000000  \n",
       "25%    98033.000000     47.471000   -122.328000    1490.000000    5100.000000  \n",
       "50%    98065.000000     47.571800   -122.230000    1840.000000    7620.000000  \n",
       "75%    98118.000000     47.678000   -122.125000    2360.000000   10083.000000  \n",
       "max    98199.000000     47.777600   -121.315000    6210.000000  871200.000000  "
      ]
     },
     "execution_count": 11,
     "metadata": {},
     "output_type": "execute_result"
    }
   ],
   "source": [
    "df.describe()"
   ]
  },
  {
   "cell_type": "code",
   "execution_count": 22,
   "metadata": {},
   "outputs": [
    {
     "data": {
      "text/plain": [
       "id               0\n",
       "date             0\n",
       "price            0\n",
       "bedrooms         0\n",
       "bathrooms        0\n",
       "sqft_living      0\n",
       "sqft_lot         0\n",
       "floors           0\n",
       "waterfront       0\n",
       "view             0\n",
       "condition        0\n",
       "grade            0\n",
       "sqft_above       0\n",
       "sqft_basement    0\n",
       "yr_built         0\n",
       "yr_renovated     0\n",
       "zipcode          0\n",
       "lat              0\n",
       "long             0\n",
       "sqft_living15    0\n",
       "sqft_lot15       0\n",
       "dtype: int64"
      ]
     },
     "execution_count": 22,
     "metadata": {},
     "output_type": "execute_result"
    }
   ],
   "source": [
    "df.isna().sum()"
   ]
  },
  {
   "cell_type": "code",
   "execution_count": 23,
   "metadata": {},
   "outputs": [],
   "source": [
    "df['sqft_above'].fillna(df['sqft_above'].mean(),inplace=True)"
   ]
  },
  {
   "cell_type": "code",
   "execution_count": 24,
   "metadata": {},
   "outputs": [
    {
     "data": {
      "text/plain": [
       "id               0\n",
       "date             0\n",
       "price            0\n",
       "bedrooms         0\n",
       "bathrooms        0\n",
       "sqft_living      0\n",
       "sqft_lot         0\n",
       "floors           0\n",
       "waterfront       0\n",
       "view             0\n",
       "condition        0\n",
       "grade            0\n",
       "sqft_above       0\n",
       "sqft_basement    0\n",
       "yr_built         0\n",
       "yr_renovated     0\n",
       "zipcode          0\n",
       "lat              0\n",
       "long             0\n",
       "sqft_living15    0\n",
       "sqft_lot15       0\n",
       "dtype: int64"
      ]
     },
     "execution_count": 24,
     "metadata": {},
     "output_type": "execute_result"
    }
   ],
   "source": [
    "df.isna().sum()"
   ]
  },
  {
   "cell_type": "code",
   "execution_count": 25,
   "metadata": {},
   "outputs": [
    {
     "data": {
      "text/plain": [
       "3     9824\n",
       "4     6882\n",
       "2     2760\n",
       "5     1601\n",
       "6      272\n",
       "1      199\n",
       "7       38\n",
       "0       13\n",
       "8       13\n",
       "9        6\n",
       "10       3\n",
       "11       1\n",
       "33       1\n",
       "Name: bedrooms, dtype: int64"
      ]
     },
     "execution_count": 25,
     "metadata": {},
     "output_type": "execute_result"
    }
   ],
   "source": [
    "#The 33 bedrooms is the outlier\n",
    "df['bedrooms'].value_counts()"
   ]
  },
  {
   "cell_type": "code",
   "execution_count": 26,
   "metadata": {},
   "outputs": [],
   "source": [
    "df=df[df['bedrooms']<30]"
   ]
  },
  {
   "cell_type": "markdown",
   "metadata": {},
   "source": [
    "# Exploratory Data Analysis"
   ]
  },
  {
   "cell_type": "code",
   "execution_count": 27,
   "metadata": {},
   "outputs": [
    {
     "data": {
      "text/html": [
       "<div>\n",
       "<style scoped>\n",
       "    .dataframe tbody tr th:only-of-type {\n",
       "        vertical-align: middle;\n",
       "    }\n",
       "\n",
       "    .dataframe tbody tr th {\n",
       "        vertical-align: top;\n",
       "    }\n",
       "\n",
       "    .dataframe thead th {\n",
       "        text-align: right;\n",
       "    }\n",
       "</style>\n",
       "<table border=\"1\" class=\"dataframe\">\n",
       "  <thead>\n",
       "    <tr style=\"text-align: right;\">\n",
       "      <th></th>\n",
       "      <th>id</th>\n",
       "      <th>price</th>\n",
       "      <th>bedrooms</th>\n",
       "      <th>bathrooms</th>\n",
       "      <th>sqft_living</th>\n",
       "      <th>sqft_lot</th>\n",
       "      <th>floors</th>\n",
       "      <th>waterfront</th>\n",
       "      <th>view</th>\n",
       "      <th>condition</th>\n",
       "      <th>grade</th>\n",
       "      <th>sqft_above</th>\n",
       "      <th>sqft_basement</th>\n",
       "      <th>yr_built</th>\n",
       "      <th>yr_renovated</th>\n",
       "      <th>zipcode</th>\n",
       "      <th>lat</th>\n",
       "      <th>long</th>\n",
       "      <th>sqft_living15</th>\n",
       "      <th>sqft_lot15</th>\n",
       "    </tr>\n",
       "  </thead>\n",
       "  <tbody>\n",
       "    <tr>\n",
       "      <th>id</th>\n",
       "      <td>1.000000</td>\n",
       "      <td>-0.016753</td>\n",
       "      <td>0.002461</td>\n",
       "      <td>0.005144</td>\n",
       "      <td>-0.012276</td>\n",
       "      <td>-0.132118</td>\n",
       "      <td>0.018494</td>\n",
       "      <td>-0.002724</td>\n",
       "      <td>0.011582</td>\n",
       "      <td>-0.023701</td>\n",
       "      <td>0.008111</td>\n",
       "      <td>-0.010862</td>\n",
       "      <td>-0.005128</td>\n",
       "      <td>0.021352</td>\n",
       "      <td>-0.016915</td>\n",
       "      <td>-0.008208</td>\n",
       "      <td>-0.001859</td>\n",
       "      <td>0.020770</td>\n",
       "      <td>-0.002935</td>\n",
       "      <td>-0.138810</td>\n",
       "    </tr>\n",
       "    <tr>\n",
       "      <th>price</th>\n",
       "      <td>-0.016753</td>\n",
       "      <td>1.000000</td>\n",
       "      <td>0.315445</td>\n",
       "      <td>0.525147</td>\n",
       "      <td>0.702047</td>\n",
       "      <td>0.089664</td>\n",
       "      <td>0.256811</td>\n",
       "      <td>0.266371</td>\n",
       "      <td>0.397299</td>\n",
       "      <td>0.036336</td>\n",
       "      <td>0.667447</td>\n",
       "      <td>0.605589</td>\n",
       "      <td>0.323812</td>\n",
       "      <td>0.054023</td>\n",
       "      <td>0.126437</td>\n",
       "      <td>-0.053209</td>\n",
       "      <td>0.306998</td>\n",
       "      <td>0.021637</td>\n",
       "      <td>0.585404</td>\n",
       "      <td>0.082451</td>\n",
       "    </tr>\n",
       "    <tr>\n",
       "      <th>bedrooms</th>\n",
       "      <td>0.002461</td>\n",
       "      <td>0.315445</td>\n",
       "      <td>1.000000</td>\n",
       "      <td>0.529159</td>\n",
       "      <td>0.591467</td>\n",
       "      <td>0.032807</td>\n",
       "      <td>0.181085</td>\n",
       "      <td>-0.006611</td>\n",
       "      <td>0.081930</td>\n",
       "      <td>0.025478</td>\n",
       "      <td>0.366502</td>\n",
       "      <td>0.490609</td>\n",
       "      <td>0.309490</td>\n",
       "      <td>0.159167</td>\n",
       "      <td>0.019617</td>\n",
       "      <td>-0.157093</td>\n",
       "      <td>-0.010541</td>\n",
       "      <td>0.133882</td>\n",
       "      <td>0.402626</td>\n",
       "      <td>0.030402</td>\n",
       "    </tr>\n",
       "    <tr>\n",
       "      <th>bathrooms</th>\n",
       "      <td>0.005144</td>\n",
       "      <td>0.525147</td>\n",
       "      <td>0.529159</td>\n",
       "      <td>1.000000</td>\n",
       "      <td>0.754663</td>\n",
       "      <td>0.087735</td>\n",
       "      <td>0.500645</td>\n",
       "      <td>0.063742</td>\n",
       "      <td>0.187732</td>\n",
       "      <td>-0.124946</td>\n",
       "      <td>0.664979</td>\n",
       "      <td>0.685323</td>\n",
       "      <td>0.283789</td>\n",
       "      <td>0.506012</td>\n",
       "      <td>0.050735</td>\n",
       "      <td>-0.203858</td>\n",
       "      <td>0.024594</td>\n",
       "      <td>0.223028</td>\n",
       "      <td>0.568628</td>\n",
       "      <td>0.087170</td>\n",
       "    </tr>\n",
       "    <tr>\n",
       "      <th>sqft_living</th>\n",
       "      <td>-0.012276</td>\n",
       "      <td>0.702047</td>\n",
       "      <td>0.591467</td>\n",
       "      <td>0.754663</td>\n",
       "      <td>1.000000</td>\n",
       "      <td>0.172822</td>\n",
       "      <td>0.353937</td>\n",
       "      <td>0.103816</td>\n",
       "      <td>0.284606</td>\n",
       "      <td>-0.058704</td>\n",
       "      <td>0.762701</td>\n",
       "      <td>0.876587</td>\n",
       "      <td>0.435065</td>\n",
       "      <td>0.318037</td>\n",
       "      <td>0.055358</td>\n",
       "      <td>-0.199421</td>\n",
       "      <td>0.052552</td>\n",
       "      <td>0.240209</td>\n",
       "      <td>0.756419</td>\n",
       "      <td>0.183280</td>\n",
       "    </tr>\n",
       "    <tr>\n",
       "      <th>sqft_lot</th>\n",
       "      <td>-0.132118</td>\n",
       "      <td>0.089664</td>\n",
       "      <td>0.032807</td>\n",
       "      <td>0.087735</td>\n",
       "      <td>0.172822</td>\n",
       "      <td>1.000000</td>\n",
       "      <td>-0.005210</td>\n",
       "      <td>0.021603</td>\n",
       "      <td>0.074707</td>\n",
       "      <td>-0.008935</td>\n",
       "      <td>0.113616</td>\n",
       "      <td>0.183505</td>\n",
       "      <td>0.015293</td>\n",
       "      <td>0.053073</td>\n",
       "      <td>0.007641</td>\n",
       "      <td>-0.129571</td>\n",
       "      <td>-0.085675</td>\n",
       "      <td>0.229516</td>\n",
       "      <td>0.144602</td>\n",
       "      <td>0.718556</td>\n",
       "    </tr>\n",
       "    <tr>\n",
       "      <th>floors</th>\n",
       "      <td>0.018494</td>\n",
       "      <td>0.256811</td>\n",
       "      <td>0.181085</td>\n",
       "      <td>0.500645</td>\n",
       "      <td>0.353937</td>\n",
       "      <td>-0.005210</td>\n",
       "      <td>1.000000</td>\n",
       "      <td>0.023695</td>\n",
       "      <td>0.029432</td>\n",
       "      <td>-0.263706</td>\n",
       "      <td>0.458171</td>\n",
       "      <td>0.523871</td>\n",
       "      <td>-0.245684</td>\n",
       "      <td>0.489302</td>\n",
       "      <td>0.006330</td>\n",
       "      <td>-0.059102</td>\n",
       "      <td>0.049655</td>\n",
       "      <td>0.125388</td>\n",
       "      <td>0.279856</td>\n",
       "      <td>-0.011282</td>\n",
       "    </tr>\n",
       "    <tr>\n",
       "      <th>waterfront</th>\n",
       "      <td>-0.002724</td>\n",
       "      <td>0.266371</td>\n",
       "      <td>-0.006611</td>\n",
       "      <td>0.063742</td>\n",
       "      <td>0.103816</td>\n",
       "      <td>0.021603</td>\n",
       "      <td>0.023695</td>\n",
       "      <td>1.000000</td>\n",
       "      <td>0.401857</td>\n",
       "      <td>0.016665</td>\n",
       "      <td>0.082773</td>\n",
       "      <td>0.072072</td>\n",
       "      <td>0.080591</td>\n",
       "      <td>-0.026165</td>\n",
       "      <td>0.092884</td>\n",
       "      <td>0.030287</td>\n",
       "      <td>-0.014270</td>\n",
       "      <td>-0.041914</td>\n",
       "      <td>0.086461</td>\n",
       "      <td>0.030702</td>\n",
       "    </tr>\n",
       "    <tr>\n",
       "      <th>view</th>\n",
       "      <td>0.011582</td>\n",
       "      <td>0.397299</td>\n",
       "      <td>0.081930</td>\n",
       "      <td>0.187732</td>\n",
       "      <td>0.284606</td>\n",
       "      <td>0.074707</td>\n",
       "      <td>0.029432</td>\n",
       "      <td>0.401857</td>\n",
       "      <td>1.000000</td>\n",
       "      <td>0.046031</td>\n",
       "      <td>0.251315</td>\n",
       "      <td>0.167638</td>\n",
       "      <td>0.276959</td>\n",
       "      <td>-0.053452</td>\n",
       "      <td>0.103915</td>\n",
       "      <td>0.084834</td>\n",
       "      <td>0.006170</td>\n",
       "      <td>-0.078413</td>\n",
       "      <td>0.280432</td>\n",
       "      <td>0.072571</td>\n",
       "    </tr>\n",
       "    <tr>\n",
       "      <th>condition</th>\n",
       "      <td>-0.023701</td>\n",
       "      <td>0.036336</td>\n",
       "      <td>0.025478</td>\n",
       "      <td>-0.124946</td>\n",
       "      <td>-0.058704</td>\n",
       "      <td>-0.008935</td>\n",
       "      <td>-0.263706</td>\n",
       "      <td>0.016665</td>\n",
       "      <td>0.046031</td>\n",
       "      <td>1.000000</td>\n",
       "      <td>-0.144632</td>\n",
       "      <td>-0.158124</td>\n",
       "      <td>0.174057</td>\n",
       "      <td>-0.361380</td>\n",
       "      <td>-0.060602</td>\n",
       "      <td>0.002973</td>\n",
       "      <td>-0.015048</td>\n",
       "      <td>-0.106423</td>\n",
       "      <td>-0.092731</td>\n",
       "      <td>-0.003373</td>\n",
       "    </tr>\n",
       "    <tr>\n",
       "      <th>grade</th>\n",
       "      <td>0.008111</td>\n",
       "      <td>0.667447</td>\n",
       "      <td>0.366502</td>\n",
       "      <td>0.664979</td>\n",
       "      <td>0.762701</td>\n",
       "      <td>0.113616</td>\n",
       "      <td>0.458171</td>\n",
       "      <td>0.082773</td>\n",
       "      <td>0.251315</td>\n",
       "      <td>-0.144632</td>\n",
       "      <td>1.000000</td>\n",
       "      <td>0.755913</td>\n",
       "      <td>0.168412</td>\n",
       "      <td>0.446952</td>\n",
       "      <td>0.014409</td>\n",
       "      <td>-0.184852</td>\n",
       "      <td>0.114111</td>\n",
       "      <td>0.198355</td>\n",
       "      <td>0.713198</td>\n",
       "      <td>0.119241</td>\n",
       "    </tr>\n",
       "    <tr>\n",
       "      <th>sqft_above</th>\n",
       "      <td>-0.010862</td>\n",
       "      <td>0.605589</td>\n",
       "      <td>0.490609</td>\n",
       "      <td>0.685323</td>\n",
       "      <td>0.876587</td>\n",
       "      <td>0.183505</td>\n",
       "      <td>0.523871</td>\n",
       "      <td>0.072072</td>\n",
       "      <td>0.167638</td>\n",
       "      <td>-0.158124</td>\n",
       "      <td>0.755913</td>\n",
       "      <td>1.000000</td>\n",
       "      <td>-0.051937</td>\n",
       "      <td>0.423860</td>\n",
       "      <td>0.023275</td>\n",
       "      <td>-0.261167</td>\n",
       "      <td>-0.000771</td>\n",
       "      <td>0.343769</td>\n",
       "      <td>0.731854</td>\n",
       "      <td>0.194039</td>\n",
       "    </tr>\n",
       "    <tr>\n",
       "      <th>sqft_basement</th>\n",
       "      <td>-0.005128</td>\n",
       "      <td>0.323812</td>\n",
       "      <td>0.309490</td>\n",
       "      <td>0.283789</td>\n",
       "      <td>0.435065</td>\n",
       "      <td>0.015293</td>\n",
       "      <td>-0.245684</td>\n",
       "      <td>0.080591</td>\n",
       "      <td>0.276959</td>\n",
       "      <td>0.174057</td>\n",
       "      <td>0.168412</td>\n",
       "      <td>-0.051937</td>\n",
       "      <td>1.000000</td>\n",
       "      <td>-0.133103</td>\n",
       "      <td>0.071330</td>\n",
       "      <td>0.074832</td>\n",
       "      <td>0.110513</td>\n",
       "      <td>-0.144743</td>\n",
       "      <td>0.200390</td>\n",
       "      <td>0.017285</td>\n",
       "    </tr>\n",
       "    <tr>\n",
       "      <th>yr_built</th>\n",
       "      <td>0.021352</td>\n",
       "      <td>0.054023</td>\n",
       "      <td>0.159167</td>\n",
       "      <td>0.506012</td>\n",
       "      <td>0.318037</td>\n",
       "      <td>0.053073</td>\n",
       "      <td>0.489302</td>\n",
       "      <td>-0.026165</td>\n",
       "      <td>-0.053452</td>\n",
       "      <td>-0.361380</td>\n",
       "      <td>0.446952</td>\n",
       "      <td>0.423860</td>\n",
       "      <td>-0.133103</td>\n",
       "      <td>1.000000</td>\n",
       "      <td>-0.224885</td>\n",
       "      <td>-0.346859</td>\n",
       "      <td>-0.148093</td>\n",
       "      <td>0.409338</td>\n",
       "      <td>0.326205</td>\n",
       "      <td>0.070948</td>\n",
       "    </tr>\n",
       "    <tr>\n",
       "      <th>yr_renovated</th>\n",
       "      <td>-0.016915</td>\n",
       "      <td>0.126437</td>\n",
       "      <td>0.019617</td>\n",
       "      <td>0.050735</td>\n",
       "      <td>0.055358</td>\n",
       "      <td>0.007641</td>\n",
       "      <td>0.006330</td>\n",
       "      <td>0.092884</td>\n",
       "      <td>0.103915</td>\n",
       "      <td>-0.060602</td>\n",
       "      <td>0.014409</td>\n",
       "      <td>0.023275</td>\n",
       "      <td>0.071330</td>\n",
       "      <td>-0.224885</td>\n",
       "      <td>1.000000</td>\n",
       "      <td>0.064362</td>\n",
       "      <td>0.029407</td>\n",
       "      <td>-0.068382</td>\n",
       "      <td>-0.002682</td>\n",
       "      <td>0.007851</td>\n",
       "    </tr>\n",
       "    <tr>\n",
       "      <th>zipcode</th>\n",
       "      <td>-0.008208</td>\n",
       "      <td>-0.053209</td>\n",
       "      <td>-0.157093</td>\n",
       "      <td>-0.203858</td>\n",
       "      <td>-0.199421</td>\n",
       "      <td>-0.129571</td>\n",
       "      <td>-0.059102</td>\n",
       "      <td>0.030287</td>\n",
       "      <td>0.084834</td>\n",
       "      <td>0.002973</td>\n",
       "      <td>-0.184852</td>\n",
       "      <td>-0.261167</td>\n",
       "      <td>0.074832</td>\n",
       "      <td>-0.346859</td>\n",
       "      <td>0.064362</td>\n",
       "      <td>1.000000</td>\n",
       "      <td>0.267035</td>\n",
       "      <td>-0.564065</td>\n",
       "      <td>-0.279020</td>\n",
       "      <td>-0.147216</td>\n",
       "    </tr>\n",
       "    <tr>\n",
       "      <th>lat</th>\n",
       "      <td>-0.001859</td>\n",
       "      <td>0.306998</td>\n",
       "      <td>-0.010541</td>\n",
       "      <td>0.024594</td>\n",
       "      <td>0.052552</td>\n",
       "      <td>-0.085675</td>\n",
       "      <td>0.049655</td>\n",
       "      <td>-0.014270</td>\n",
       "      <td>0.006170</td>\n",
       "      <td>-0.015048</td>\n",
       "      <td>0.114111</td>\n",
       "      <td>-0.000771</td>\n",
       "      <td>0.110513</td>\n",
       "      <td>-0.148093</td>\n",
       "      <td>0.029407</td>\n",
       "      <td>0.267035</td>\n",
       "      <td>1.000000</td>\n",
       "      <td>-0.135481</td>\n",
       "      <td>0.048901</td>\n",
       "      <td>-0.086408</td>\n",
       "    </tr>\n",
       "    <tr>\n",
       "      <th>long</th>\n",
       "      <td>0.020770</td>\n",
       "      <td>0.021637</td>\n",
       "      <td>0.133882</td>\n",
       "      <td>0.223028</td>\n",
       "      <td>0.240209</td>\n",
       "      <td>0.229516</td>\n",
       "      <td>0.125388</td>\n",
       "      <td>-0.041914</td>\n",
       "      <td>-0.078413</td>\n",
       "      <td>-0.106423</td>\n",
       "      <td>0.198355</td>\n",
       "      <td>0.343769</td>\n",
       "      <td>-0.144743</td>\n",
       "      <td>0.409338</td>\n",
       "      <td>-0.068382</td>\n",
       "      <td>-0.564065</td>\n",
       "      <td>-0.135481</td>\n",
       "      <td>1.000000</td>\n",
       "      <td>0.334581</td>\n",
       "      <td>0.254445</td>\n",
       "    </tr>\n",
       "    <tr>\n",
       "      <th>sqft_living15</th>\n",
       "      <td>-0.002935</td>\n",
       "      <td>0.585404</td>\n",
       "      <td>0.402626</td>\n",
       "      <td>0.568628</td>\n",
       "      <td>0.756419</td>\n",
       "      <td>0.144602</td>\n",
       "      <td>0.279856</td>\n",
       "      <td>0.086461</td>\n",
       "      <td>0.280432</td>\n",
       "      <td>-0.092731</td>\n",
       "      <td>0.713198</td>\n",
       "      <td>0.731854</td>\n",
       "      <td>0.200390</td>\n",
       "      <td>0.326205</td>\n",
       "      <td>-0.002682</td>\n",
       "      <td>-0.279020</td>\n",
       "      <td>0.048901</td>\n",
       "      <td>0.334581</td>\n",
       "      <td>1.000000</td>\n",
       "      <td>0.183183</td>\n",
       "    </tr>\n",
       "    <tr>\n",
       "      <th>sqft_lot15</th>\n",
       "      <td>-0.138810</td>\n",
       "      <td>0.082451</td>\n",
       "      <td>0.030402</td>\n",
       "      <td>0.087170</td>\n",
       "      <td>0.183280</td>\n",
       "      <td>0.718556</td>\n",
       "      <td>-0.011282</td>\n",
       "      <td>0.030702</td>\n",
       "      <td>0.072571</td>\n",
       "      <td>-0.003373</td>\n",
       "      <td>0.119241</td>\n",
       "      <td>0.194039</td>\n",
       "      <td>0.017285</td>\n",
       "      <td>0.070948</td>\n",
       "      <td>0.007851</td>\n",
       "      <td>-0.147216</td>\n",
       "      <td>-0.086408</td>\n",
       "      <td>0.254445</td>\n",
       "      <td>0.183183</td>\n",
       "      <td>1.000000</td>\n",
       "    </tr>\n",
       "  </tbody>\n",
       "</table>\n",
       "</div>"
      ],
      "text/plain": [
       "                     id     price  bedrooms  bathrooms  sqft_living  sqft_lot  \\\n",
       "id             1.000000 -0.016753  0.002461   0.005144    -0.012276 -0.132118   \n",
       "price         -0.016753  1.000000  0.315445   0.525147     0.702047  0.089664   \n",
       "bedrooms       0.002461  0.315445  1.000000   0.529159     0.591467  0.032807   \n",
       "bathrooms      0.005144  0.525147  0.529159   1.000000     0.754663  0.087735   \n",
       "sqft_living   -0.012276  0.702047  0.591467   0.754663     1.000000  0.172822   \n",
       "sqft_lot      -0.132118  0.089664  0.032807   0.087735     0.172822  1.000000   \n",
       "floors         0.018494  0.256811  0.181085   0.500645     0.353937 -0.005210   \n",
       "waterfront    -0.002724  0.266371 -0.006611   0.063742     0.103816  0.021603   \n",
       "view           0.011582  0.397299  0.081930   0.187732     0.284606  0.074707   \n",
       "condition     -0.023701  0.036336  0.025478  -0.124946    -0.058704 -0.008935   \n",
       "grade          0.008111  0.667447  0.366502   0.664979     0.762701  0.113616   \n",
       "sqft_above    -0.010862  0.605589  0.490609   0.685323     0.876587  0.183505   \n",
       "sqft_basement -0.005128  0.323812  0.309490   0.283789     0.435065  0.015293   \n",
       "yr_built       0.021352  0.054023  0.159167   0.506012     0.318037  0.053073   \n",
       "yr_renovated  -0.016915  0.126437  0.019617   0.050735     0.055358  0.007641   \n",
       "zipcode       -0.008208 -0.053209 -0.157093  -0.203858    -0.199421 -0.129571   \n",
       "lat           -0.001859  0.306998 -0.010541   0.024594     0.052552 -0.085675   \n",
       "long           0.020770  0.021637  0.133882   0.223028     0.240209  0.229516   \n",
       "sqft_living15 -0.002935  0.585404  0.402626   0.568628     0.756419  0.144602   \n",
       "sqft_lot15    -0.138810  0.082451  0.030402   0.087170     0.183280  0.718556   \n",
       "\n",
       "                 floors  waterfront      view  condition     grade  \\\n",
       "id             0.018494   -0.002724  0.011582  -0.023701  0.008111   \n",
       "price          0.256811    0.266371  0.397299   0.036336  0.667447   \n",
       "bedrooms       0.181085   -0.006611  0.081930   0.025478  0.366502   \n",
       "bathrooms      0.500645    0.063742  0.187732  -0.124946  0.664979   \n",
       "sqft_living    0.353937    0.103816  0.284606  -0.058704  0.762701   \n",
       "sqft_lot      -0.005210    0.021603  0.074707  -0.008935  0.113616   \n",
       "floors         1.000000    0.023695  0.029432  -0.263706  0.458171   \n",
       "waterfront     0.023695    1.000000  0.401857   0.016665  0.082773   \n",
       "view           0.029432    0.401857  1.000000   0.046031  0.251315   \n",
       "condition     -0.263706    0.016665  0.046031   1.000000 -0.144632   \n",
       "grade          0.458171    0.082773  0.251315  -0.144632  1.000000   \n",
       "sqft_above     0.523871    0.072072  0.167638  -0.158124  0.755913   \n",
       "sqft_basement -0.245684    0.080591  0.276959   0.174057  0.168412   \n",
       "yr_built       0.489302   -0.026165 -0.053452  -0.361380  0.446952   \n",
       "yr_renovated   0.006330    0.092884  0.103915  -0.060602  0.014409   \n",
       "zipcode       -0.059102    0.030287  0.084834   0.002973 -0.184852   \n",
       "lat            0.049655   -0.014270  0.006170  -0.015048  0.114111   \n",
       "long           0.125388   -0.041914 -0.078413  -0.106423  0.198355   \n",
       "sqft_living15  0.279856    0.086461  0.280432  -0.092731  0.713198   \n",
       "sqft_lot15    -0.011282    0.030702  0.072571  -0.003373  0.119241   \n",
       "\n",
       "               sqft_above  sqft_basement  yr_built  yr_renovated   zipcode  \\\n",
       "id              -0.010862      -0.005128  0.021352     -0.016915 -0.008208   \n",
       "price            0.605589       0.323812  0.054023      0.126437 -0.053209   \n",
       "bedrooms         0.490609       0.309490  0.159167      0.019617 -0.157093   \n",
       "bathrooms        0.685323       0.283789  0.506012      0.050735 -0.203858   \n",
       "sqft_living      0.876587       0.435065  0.318037      0.055358 -0.199421   \n",
       "sqft_lot         0.183505       0.015293  0.053073      0.007641 -0.129571   \n",
       "floors           0.523871      -0.245684  0.489302      0.006330 -0.059102   \n",
       "waterfront       0.072072       0.080591 -0.026165      0.092884  0.030287   \n",
       "view             0.167638       0.276959 -0.053452      0.103915  0.084834   \n",
       "condition       -0.158124       0.174057 -0.361380     -0.060602  0.002973   \n",
       "grade            0.755913       0.168412  0.446952      0.014409 -0.184852   \n",
       "sqft_above       1.000000      -0.051937  0.423860      0.023275 -0.261167   \n",
       "sqft_basement   -0.051937       1.000000 -0.133103      0.071330  0.074832   \n",
       "yr_built         0.423860      -0.133103  1.000000     -0.224885 -0.346859   \n",
       "yr_renovated     0.023275       0.071330 -0.224885      1.000000  0.064362   \n",
       "zipcode         -0.261167       0.074832 -0.346859      0.064362  1.000000   \n",
       "lat             -0.000771       0.110513 -0.148093      0.029407  0.267035   \n",
       "long             0.343769      -0.144743  0.409338     -0.068382 -0.564065   \n",
       "sqft_living15    0.731854       0.200390  0.326205     -0.002682 -0.279020   \n",
       "sqft_lot15       0.194039       0.017285  0.070948      0.007851 -0.147216   \n",
       "\n",
       "                    lat      long  sqft_living15  sqft_lot15  \n",
       "id            -0.001859  0.020770      -0.002935   -0.138810  \n",
       "price          0.306998  0.021637       0.585404    0.082451  \n",
       "bedrooms      -0.010541  0.133882       0.402626    0.030402  \n",
       "bathrooms      0.024594  0.223028       0.568628    0.087170  \n",
       "sqft_living    0.052552  0.240209       0.756419    0.183280  \n",
       "sqft_lot      -0.085675  0.229516       0.144602    0.718556  \n",
       "floors         0.049655  0.125388       0.279856   -0.011282  \n",
       "waterfront    -0.014270 -0.041914       0.086461    0.030702  \n",
       "view           0.006170 -0.078413       0.280432    0.072571  \n",
       "condition     -0.015048 -0.106423      -0.092731   -0.003373  \n",
       "grade          0.114111  0.198355       0.713198    0.119241  \n",
       "sqft_above    -0.000771  0.343769       0.731854    0.194039  \n",
       "sqft_basement  0.110513 -0.144743       0.200390    0.017285  \n",
       "yr_built      -0.148093  0.409338       0.326205    0.070948  \n",
       "yr_renovated   0.029407 -0.068382      -0.002682    0.007851  \n",
       "zipcode        0.267035 -0.564065      -0.279020   -0.147216  \n",
       "lat            1.000000 -0.135481       0.048901   -0.086408  \n",
       "long          -0.135481  1.000000       0.334581    0.254445  \n",
       "sqft_living15  0.048901  0.334581       1.000000    0.183183  \n",
       "sqft_lot15    -0.086408  0.254445       0.183183    1.000000  "
      ]
     },
     "execution_count": 27,
     "metadata": {},
     "output_type": "execute_result"
    }
   ],
   "source": [
    "df.corr()"
   ]
  },
  {
   "cell_type": "code",
   "execution_count": 28,
   "metadata": {},
   "outputs": [
    {
     "name": "stderr",
     "output_type": "stream",
     "text": [
      "C:\\Users\\mook\\anaconda3\\lib\\site-packages\\seaborn\\_decorators.py:36: FutureWarning: Pass the following variable as a keyword arg: x. From version 0.12, the only valid positional argument will be `data`, and passing other arguments without an explicit keyword will result in an error or misinterpretation.\n",
      "  warnings.warn(\n"
     ]
    },
    {
     "data": {
      "text/plain": [
       "<AxesSubplot:xlabel='bedrooms', ylabel='count'>"
      ]
     },
     "execution_count": 28,
     "metadata": {},
     "output_type": "execute_result"
    },
    {
     "data": {
      "image/png": "[encoded data removed]",
      "text/plain": [
       "<Figure size 432x288 with 1 Axes>"
      ]
     },
     "metadata": {
      "needs_background": "light"
     },
     "output_type": "display_data"
    }
   ],
   "source": [
    "sns.countplot(df['bedrooms'])"
   ]
  },
  {
   "cell_type": "code",
   "execution_count": 29,
   "metadata": {},
   "outputs": [
    {
     "data": {
      "text/plain": [
       "<AxesSubplot:xlabel='bedrooms', ylabel='price'>"
      ]
     },
     "execution_count": 29,
     "metadata": {},
     "output_type": "execute_result"
    },
    {
     "data": {
      "image/png": "[encoded data removed]",
      "text/plain": [
       "<Figure size 1080x576 with 1 Axes>"
      ]
     },
     "metadata": {
      "needs_background": "light"
     },
     "output_type": "display_data"
    }
   ],
   "source": [
    "fig, ax = plt.subplots(figsize=(15,8))\n",
    "ax.ticklabel_format(style='plain')\n",
    "sns.boxplot(x='bedrooms',y='price',data=df)\n"
   ]
  },
  {
   "cell_type": "code",
   "execution_count": 30,
   "metadata": {},
   "outputs": [
    {
     "data": {
      "text/plain": [
       "<AxesSubplot:>"
      ]
     },
     "execution_count": 30,
     "metadata": {},
     "output_type": "execute_result"
    },
    {
     "data": {
      "image/png": "[encoded data removed]",
      "text/plain": [
       "<Figure size 1080x576 with 2 Axes>"
      ]
     },
     "metadata": {
      "needs_background": "light"
     },
     "output_type": "display_data"
    }
   ],
   "source": [
    "fig, ax = plt.subplots(figsize=(15,8))\n",
    "sns.heatmap(df.corr(),annot=True,ax=ax)"
   ]
  },
  {
   "cell_type": "code",
   "execution_count": 31,
   "metadata": {},
   "outputs": [
    {
     "data": {
      "text/plain": [
       "Text(0, 0.5, 'Square feet')"
      ]
     },
     "execution_count": 31,
     "metadata": {},
     "output_type": "execute_result"
    },
    {
     "data": {
      "image/png": "[encoded data removed]",
      "text/plain": [
       "<Figure size 432x288 with 1 Axes>"
      ]
     },
     "metadata": {
      "needs_background": "light"
     },
     "output_type": "display_data"
    }
   ],
   "source": [
    "plt.scatter(x=df['price'],y=df['sqft_living'])\n",
    "plt.title('price & Square feet')\n",
    "plt.xlabel('Price')\n",
    "plt.ylabel('Square feet')\n"
   ]
  },
  {
   "cell_type": "code",
   "execution_count": 32,
   "metadata": {},
   "outputs": [
    {
     "data": {
      "text/plain": [
       "Text(0.5, 1.0, 'Price & Bathrooms')"
      ]
     },
     "execution_count": 32,
     "metadata": {},
     "output_type": "execute_result"
    },
    {
     "data": {
      "image/png": "[encoded data removed]",
      "text/plain": [
       "<Figure size 1080x576 with 1 Axes>"
      ]
     },
     "metadata": {
      "needs_background": "light"
     },
     "output_type": "display_data"
    }
   ],
   "source": [
    "fig, ax = plt.subplots(figsize=(15,8))\n",
    "ax.ticklabel_format(style='plain')\n",
    "sns.boxplot(x='bathrooms',y='price',data=df)\n",
    "plt.title('Price & Bathrooms')"
   ]
  },
  {
   "cell_type": "code",
   "execution_count": 33,
   "metadata": {},
   "outputs": [
    {
     "name": "stderr",
     "output_type": "stream",
     "text": [
      "C:\\Users\\mook\\anaconda3\\lib\\site-packages\\seaborn\\_decorators.py:36: FutureWarning: Pass the following variables as keyword args: x, y. From version 0.12, the only valid positional argument will be `data`, and passing other arguments without an explicit keyword will result in an error or misinterpretation.\n",
      "  warnings.warn(\n"
     ]
    },
    {
     "data": {
      "text/plain": [
       "<seaborn.axisgrid.FacetGrid at 0x1d82d29fa30>"
      ]
     },
     "execution_count": 33,
     "metadata": {},
     "output_type": "execute_result"
    },
    {
     "data": {
      "image/png": "[encoded data removed]",
      "text/plain": [
       "<Figure size 360x360 with 1 Axes>"
      ]
     },
     "metadata": {
      "needs_background": "light"
     },
     "output_type": "display_data"
    }
   ],
   "source": [
    "sns.catplot('condition','price',data=df)"
   ]
  },
  {
   "cell_type": "code",
   "execution_count": 34,
   "metadata": {},
   "outputs": [
    {
     "data": {
      "text/plain": [
       "<seaborn.axisgrid.FacetGrid at 0x1d82e5125e0>"
      ]
     },
     "execution_count": 34,
     "metadata": {},
     "output_type": "execute_result"
    },
    {
     "data": {
      "image/png": "[encoded data removed]",
      "text/plain": [
       "<Figure size 360x360 with 1 Axes>"
      ]
     },
     "metadata": {
      "needs_background": "light"
     },
     "output_type": "display_data"
    }
   ],
   "source": [
    "sns.catplot(x='floors',y='price',data=df)"
   ]
  },
  {
   "cell_type": "markdown",
   "metadata": {},
   "source": [
    "# Experiment"
   ]
  },
  {
   "cell_type": "code",
   "execution_count": 35,
   "metadata": {},
   "outputs": [
    {
     "data": {
      "text/html": [
       "<div>\n",
       "<style scoped>\n",
       "    .dataframe tbody tr th:only-of-type {\n",
       "        vertical-align: middle;\n",
       "    }\n",
       "\n",
       "    .dataframe tbody tr th {\n",
       "        vertical-align: top;\n",
       "    }\n",
       "\n",
       "    .dataframe thead th {\n",
       "        text-align: right;\n",
       "    }\n",
       "</style>\n",
       "<table border=\"1\" class=\"dataframe\">\n",
       "  <thead>\n",
       "    <tr style=\"text-align: right;\">\n",
       "      <th></th>\n",
       "      <th>bedrooms</th>\n",
       "      <th>bathrooms</th>\n",
       "      <th>sqft_living</th>\n",
       "      <th>sqft_lot</th>\n",
       "      <th>floors</th>\n",
       "      <th>waterfront</th>\n",
       "      <th>view</th>\n",
       "      <th>condition</th>\n",
       "      <th>grade</th>\n",
       "      <th>sqft_above</th>\n",
       "      <th>sqft_basement</th>\n",
       "      <th>yr_built</th>\n",
       "      <th>yr_renovated</th>\n",
       "      <th>zipcode</th>\n",
       "      <th>lat</th>\n",
       "      <th>long</th>\n",
       "      <th>sqft_living15</th>\n",
       "      <th>sqft_lot15</th>\n",
       "    </tr>\n",
       "  </thead>\n",
       "  <tbody>\n",
       "    <tr>\n",
       "      <th>0</th>\n",
       "      <td>3</td>\n",
       "      <td>1.00</td>\n",
       "      <td>1180</td>\n",
       "      <td>5650</td>\n",
       "      <td>1.0</td>\n",
       "      <td>0</td>\n",
       "      <td>0</td>\n",
       "      <td>3</td>\n",
       "      <td>7</td>\n",
       "      <td>1180.0</td>\n",
       "      <td>0</td>\n",
       "      <td>1955</td>\n",
       "      <td>0</td>\n",
       "      <td>98178</td>\n",
       "      <td>47.5112</td>\n",
       "      <td>-122.257</td>\n",
       "      <td>1340</td>\n",
       "      <td>5650</td>\n",
       "    </tr>\n",
       "    <tr>\n",
       "      <th>1</th>\n",
       "      <td>3</td>\n",
       "      <td>2.25</td>\n",
       "      <td>2570</td>\n",
       "      <td>7242</td>\n",
       "      <td>2.0</td>\n",
       "      <td>0</td>\n",
       "      <td>0</td>\n",
       "      <td>3</td>\n",
       "      <td>7</td>\n",
       "      <td>2170.0</td>\n",
       "      <td>400</td>\n",
       "      <td>1951</td>\n",
       "      <td>1991</td>\n",
       "      <td>98125</td>\n",
       "      <td>47.7210</td>\n",
       "      <td>-122.319</td>\n",
       "      <td>1690</td>\n",
       "      <td>7639</td>\n",
       "    </tr>\n",
       "    <tr>\n",
       "      <th>2</th>\n",
       "      <td>2</td>\n",
       "      <td>1.00</td>\n",
       "      <td>770</td>\n",
       "      <td>10000</td>\n",
       "      <td>1.0</td>\n",
       "      <td>0</td>\n",
       "      <td>0</td>\n",
       "      <td>3</td>\n",
       "      <td>6</td>\n",
       "      <td>770.0</td>\n",
       "      <td>0</td>\n",
       "      <td>1933</td>\n",
       "      <td>0</td>\n",
       "      <td>98028</td>\n",
       "      <td>47.7379</td>\n",
       "      <td>-122.233</td>\n",
       "      <td>2720</td>\n",
       "      <td>8062</td>\n",
       "    </tr>\n",
       "    <tr>\n",
       "      <th>3</th>\n",
       "      <td>4</td>\n",
       "      <td>3.00</td>\n",
       "      <td>1960</td>\n",
       "      <td>5000</td>\n",
       "      <td>1.0</td>\n",
       "      <td>0</td>\n",
       "      <td>0</td>\n",
       "      <td>5</td>\n",
       "      <td>7</td>\n",
       "      <td>1050.0</td>\n",
       "      <td>910</td>\n",
       "      <td>1965</td>\n",
       "      <td>0</td>\n",
       "      <td>98136</td>\n",
       "      <td>47.5208</td>\n",
       "      <td>-122.393</td>\n",
       "      <td>1360</td>\n",
       "      <td>5000</td>\n",
       "    </tr>\n",
       "    <tr>\n",
       "      <th>4</th>\n",
       "      <td>3</td>\n",
       "      <td>2.00</td>\n",
       "      <td>1680</td>\n",
       "      <td>8080</td>\n",
       "      <td>1.0</td>\n",
       "      <td>0</td>\n",
       "      <td>0</td>\n",
       "      <td>3</td>\n",
       "      <td>8</td>\n",
       "      <td>1680.0</td>\n",
       "      <td>0</td>\n",
       "      <td>1987</td>\n",
       "      <td>0</td>\n",
       "      <td>98074</td>\n",
       "      <td>47.6168</td>\n",
       "      <td>-122.045</td>\n",
       "      <td>1800</td>\n",
       "      <td>7503</td>\n",
       "    </tr>\n",
       "  </tbody>\n",
       "</table>\n",
       "</div>"
      ],
      "text/plain": [
       "   bedrooms  bathrooms  sqft_living  sqft_lot  floors  waterfront  view  \\\n",
       "0         3       1.00         1180      5650     1.0           0     0   \n",
       "1         3       2.25         2570      7242     2.0           0     0   \n",
       "2         2       1.00          770     10000     1.0           0     0   \n",
       "3         4       3.00         1960      5000     1.0           0     0   \n",
       "4         3       2.00         1680      8080     1.0           0     0   \n",
       "\n",
       "   condition  grade  sqft_above  sqft_basement  yr_built  yr_renovated  \\\n",
       "0          3      7      1180.0              0      1955             0   \n",
       "1          3      7      2170.0            400      1951          1991   \n",
       "2          3      6       770.0              0      1933             0   \n",
       "3          5      7      1050.0            910      1965             0   \n",
       "4          3      8      1680.0              0      1987             0   \n",
       "\n",
       "   zipcode      lat     long  sqft_living15  sqft_lot15  \n",
       "0    98178  47.5112 -122.257           1340        5650  \n",
       "1    98125  47.7210 -122.319           1690        7639  \n",
       "2    98028  47.7379 -122.233           2720        8062  \n",
       "3    98136  47.5208 -122.393           1360        5000  \n",
       "4    98074  47.6168 -122.045           1800        7503  "
      ]
     },
     "execution_count": 35,
     "metadata": {},
     "output_type": "execute_result"
    }
   ],
   "source": [
    "X = df.drop(['id','date','price'],axis=1)\n",
    "X.head()"
   ]
  },
  {
   "cell_type": "code",
   "execution_count": 36,
   "metadata": {},
   "outputs": [],
   "source": [
    "y = df['price']"
   ]
  },
  {
   "cell_type": "code",
   "execution_count": 38,
   "metadata": {},
   "outputs": [],
   "source": [
    "X_train, X_test, y_train, y_test = train_test_split(X, y, test_size=0.10, random_state=2)"
   ]
  },
  {
   "cell_type": "code",
   "execution_count": 39,
   "metadata": {},
   "outputs": [
    {
     "data": {
      "text/plain": [
       "LinearRegression()"
      ]
     },
     "execution_count": 39,
     "metadata": {},
     "output_type": "execute_result"
    }
   ],
   "source": [
    "model = LinearRegression()\n",
    "model.fit(X_train,y_train)"
   ]
  },
  {
   "cell_type": "code",
   "execution_count": 40,
   "metadata": {},
   "outputs": [
    {
     "data": {
      "text/plain": [
       "0.6988001645364239"
      ]
     },
     "execution_count": 40,
     "metadata": {},
     "output_type": "execute_result"
    }
   ],
   "source": [
    "model.score(X_train,y_train)"
   ]
  },
  {
   "cell_type": "code",
   "execution_count": 41,
   "metadata": {},
   "outputs": [
    {
     "data": {
      "text/plain": [
       "0.7128731893763764"
      ]
     },
     "execution_count": 41,
     "metadata": {},
     "output_type": "execute_result"
    }
   ],
   "source": [
    "model.score(X_test,y_test)"
   ]
  },
  {
   "cell_type": "code",
   "execution_count": 93,
   "metadata": {},
   "outputs": [],
   "source": [
    "y_pred = model.predict(X_test)"
   ]
  },
  {
   "cell_type": "code",
   "execution_count": 97,
   "metadata": {},
   "outputs": [
    {
     "data": {
      "text/plain": [
       "121707.78797730662"
      ]
     },
     "execution_count": 97,
     "metadata": {},
     "output_type": "execute_result"
    }
   ],
   "source": [
    "mse_ = metrics.mean_absolute_error(y_test,y_pred)\n",
    "mse_"
   ]
  },
  {
   "cell_type": "markdown",
   "metadata": {},
   "source": [
    "The score of LinearRegression model got 71.28%. I'll use GradientBoostingRegressor to make better score of model."
   ]
  },
  {
   "cell_type": "code",
   "execution_count": 88,
   "metadata": {},
   "outputs": [
    {
     "name": "stderr",
     "output_type": "stream",
     "text": [
      "C:\\Users\\mook\\anaconda3\\lib\\site-packages\\sklearn\\ensemble\\_gb.py:286: FutureWarning: The loss 'ls' was deprecated in v1.0 and will be removed in version 1.2. Use 'squared_error' which is equivalent.\n",
      "  warnings.warn(\n"
     ]
    },
    {
     "data": {
      "text/plain": [
       "GradientBoostingRegressor(loss='ls', max_depth=5, n_estimators=300)"
      ]
     },
     "execution_count": 88,
     "metadata": {},
     "output_type": "execute_result"
    }
   ],
   "source": [
    "from sklearn.ensemble import GradientBoostingRegressor\n",
    "Boot = GradientBoostingRegressor(n_estimators=300,max_depth=5,min_samples_split=2,learning_rate=0.1,loss='ls')\n",
    "Boot.fit(X_train,y_train)"
   ]
  },
  {
   "cell_type": "code",
   "execution_count": 83,
   "metadata": {},
   "outputs": [
    {
     "data": {
      "text/plain": [
       "0.9667757886053338"
      ]
     },
     "execution_count": 83,
     "metadata": {},
     "output_type": "execute_result"
    }
   ],
   "source": [
    "Boot.score(X_train,y_train)"
   ]
  },
  {
   "cell_type": "code",
   "execution_count": 84,
   "metadata": {},
   "outputs": [
    {
     "data": {
      "text/plain": [
       "0.9071626148534597"
      ]
     },
     "execution_count": 84,
     "metadata": {},
     "output_type": "execute_result"
    }
   ],
   "source": [
    "Boot.score(X_test,y_test)"
   ]
  },
  {
   "cell_type": "markdown",
   "metadata": {},
   "source": [
    "After using GradientBoostingRegressor model got better scores up to 90.71%."
   ]
  },
  {
   "cell_type": "code",
   "execution_count": 85,
   "metadata": {},
   "outputs": [],
   "source": [
    "y_boot = Boot.predict(X_test)"
   ]
  },
  {
   "cell_type": "code",
   "execution_count": 86,
   "metadata": {},
   "outputs": [
    {
     "data": {
      "text/html": [
       "<div>\n",
       "<style scoped>\n",
       "    .dataframe tbody tr th:only-of-type {\n",
       "        vertical-align: middle;\n",
       "    }\n",
       "\n",
       "    .dataframe tbody tr th {\n",
       "        vertical-align: top;\n",
       "    }\n",
       "\n",
       "    .dataframe thead th {\n",
       "        text-align: right;\n",
       "    }\n",
       "</style>\n",
       "<table border=\"1\" class=\"dataframe\">\n",
       "  <thead>\n",
       "    <tr style=\"text-align: right;\">\n",
       "      <th></th>\n",
       "      <th>actual</th>\n",
       "      <th>predict</th>\n",
       "    </tr>\n",
       "  </thead>\n",
       "  <tbody>\n",
       "    <tr>\n",
       "      <th>12183</th>\n",
       "      <td>710500.0</td>\n",
       "      <td>7.604224e+05</td>\n",
       "    </tr>\n",
       "    <tr>\n",
       "      <th>18992</th>\n",
       "      <td>1505000.0</td>\n",
       "      <td>1.460815e+06</td>\n",
       "    </tr>\n",
       "    <tr>\n",
       "      <th>8370</th>\n",
       "      <td>425000.0</td>\n",
       "      <td>3.097748e+05</td>\n",
       "    </tr>\n",
       "    <tr>\n",
       "      <th>9210</th>\n",
       "      <td>350000.0</td>\n",
       "      <td>3.990329e+05</td>\n",
       "    </tr>\n",
       "    <tr>\n",
       "      <th>21107</th>\n",
       "      <td>333490.0</td>\n",
       "      <td>3.502660e+05</td>\n",
       "    </tr>\n",
       "    <tr>\n",
       "      <th>...</th>\n",
       "      <td>...</td>\n",
       "      <td>...</td>\n",
       "    </tr>\n",
       "    <tr>\n",
       "      <th>1486</th>\n",
       "      <td>229950.0</td>\n",
       "      <td>2.626202e+05</td>\n",
       "    </tr>\n",
       "    <tr>\n",
       "      <th>8699</th>\n",
       "      <td>536500.0</td>\n",
       "      <td>4.681544e+05</td>\n",
       "    </tr>\n",
       "    <tr>\n",
       "      <th>4225</th>\n",
       "      <td>390000.0</td>\n",
       "      <td>3.725777e+05</td>\n",
       "    </tr>\n",
       "    <tr>\n",
       "      <th>21181</th>\n",
       "      <td>725000.0</td>\n",
       "      <td>7.286486e+05</td>\n",
       "    </tr>\n",
       "    <tr>\n",
       "      <th>5555</th>\n",
       "      <td>434000.0</td>\n",
       "      <td>4.368589e+05</td>\n",
       "    </tr>\n",
       "  </tbody>\n",
       "</table>\n",
       "<p>2162 rows × 2 columns</p>\n",
       "</div>"
      ],
      "text/plain": [
       "          actual       predict\n",
       "12183   710500.0  7.604224e+05\n",
       "18992  1505000.0  1.460815e+06\n",
       "8370    425000.0  3.097748e+05\n",
       "9210    350000.0  3.990329e+05\n",
       "21107   333490.0  3.502660e+05\n",
       "...          ...           ...\n",
       "1486    229950.0  2.626202e+05\n",
       "8699    536500.0  4.681544e+05\n",
       "4225    390000.0  3.725777e+05\n",
       "21181   725000.0  7.286486e+05\n",
       "5555    434000.0  4.368589e+05\n",
       "\n",
       "[2162 rows x 2 columns]"
      ]
     },
     "execution_count": 86,
     "metadata": {},
     "output_type": "execute_result"
    }
   ],
   "source": [
    "result = pd.DataFrame({'actual': y_test,'predict': y_boot})\n",
    "result"
   ]
  },
  {
   "cell_type": "code",
   "execution_count": 87,
   "metadata": {},
   "outputs": [
    {
     "data": {
      "text/plain": [
       "61531.28788758045"
      ]
     },
     "execution_count": 87,
     "metadata": {},
     "output_type": "execute_result"
    }
   ],
   "source": [
    "mse = metrics.mean_absolute_error(y_test,y_boot)\n",
    "mse"
   ]
  },
  {
   "cell_type": "markdown",
   "metadata": {},
   "source": [
    "# Conclusion\n",
    "After using  Gradient Boosting Regressor model got better scores up to 90.71% on a test set. It still reduces mean absolute error from the first time up to 50.55%"
   ]
  }
 ],
 "metadata": {
  "interpreter": {
   "hash": "ef4263819c0dc8d2fcd8394b16ad0b8637e785190afea1f352a4f7b1e9a47688"
  },
  "kernelspec": {
   "display_name": "Python 3 (ipykernel)",
   "language": "python",
   "name": "python3"
  },
  "language_info": {
   "codemirror_mode": {
    "name": "ipython",
    "version": 3
   },
   "file_extension": ".py",
   "mimetype": "text/x-python",
   "name": "python",
   "nbconvert_exporter": "python",
   "pygments_lexer": "ipython3",
   "version": "3.9.12"
  }
 },
 "nbformat": 4,
 "nbformat_minor": 2
}
